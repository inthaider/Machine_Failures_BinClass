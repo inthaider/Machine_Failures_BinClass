{
 "cells": [
  {
   "cell_type": "code",
   "execution_count": null,
   "metadata": {},
   "outputs": [],
   "source": [
    "import pandas as pd\n",
    "import numpy as np\n",
    "import matplotlib.pyplot as plt\n",
    "from sklearn.model_selection import KFold"
   ]
  },
  {
   "cell_type": "code",
   "execution_count": null,
   "metadata": {},
   "outputs": [],
   "source": [
    "# reading in dataset\n",
    "df_og = pd.read_csv('data/train.csv')\n",
    "df_og.drop('id', axis=1, inplace=True)\n",
    "df_og"
   ]
  },
  {
   "cell_type": "code",
   "execution_count": null,
   "metadata": {},
   "outputs": [],
   "source": [
    "# check for missing values\n",
    "df_og.isnull().sum()"
   ]
  },
  {
   "cell_type": "code",
   "execution_count": null,
   "metadata": {},
   "outputs": [],
   "source": [
    "# Columns = 'Product ID', 'Type', 'Air temperature [K]', 'Process temperature [K]',\n",
    "#        'Rotational speed [rpm]', 'Torque [Nm]', 'Tool wear [min]',\n",
    "#        'Machine failure', 'TWF', 'HDF', 'PWF', 'OSF', 'RNF'\n",
    "\n",
    "# \n",
    "# Feature engineering\n",
    "# \n",
    "\n",
    "# Use one-hot encoding for categorical variables\n",
    "# pd.get_dummies converts categorical variables into dummy/indicator variables\n",
    "# We want to use one-hot encoding only for the \"Type\" column and no other columns\n",
    "# so we'll use pd.get_dummies only on the \"Type\" column and add the new columns to the dataframe\n",
    "df_onehot = pd.get_dummies(df_og, columns=['Type'])\n",
    "df_onehot\n"
   ]
  },
  {
   "cell_type": "code",
   "execution_count": null,
   "metadata": {},
   "outputs": [],
   "source": [
    "# create variable to store the difference between process temperature and air temperature\n",
    "df_onehot['temp_difference'] =   df_onehot['Process temperature [K]'] - df_onehot['Air temperature [K]']\n",
    "df_onehot\n",
    "\n",
    "# we will re-add product IDs that are over a certain threshold\n",
    "threshold = 20\n",
    "\n",
    "# get product IDs that are over a certain threshold\n",
    "product_ids = df_og['Product ID'].value_counts()\n",
    "# print(product_ids)\n",
    "ids_to_keep = product_ids[product_ids > threshold].index\n",
    "\n",
    "# keep the product ID if it is in the list of IDs to keep, else replace with 'other'\n",
    "df_onehot['Product ID'] = df_og['Product ID'].apply(lambda x: x if x in ids_to_keep else 'other')\n",
    "df_onehot"
   ]
  },
  {
   "cell_type": "code",
   "execution_count": null,
   "metadata": {},
   "outputs": [],
   "source": [
    "df_onehot"
   ]
  },
  {
   "cell_type": "code",
   "execution_count": null,
   "metadata": {},
   "outputs": [],
   "source": [
    "# split into train and test\n",
    "for train_index, val_index in KFold(n_splits=5, shuffle=True, random_state=42).split(df):\n",
    "    train = df.iloc[train_index]\n",
    "    val = df.iloc[val_index]\n",
    "\n",
    "    \n",
    "    \n",
    "    \n",
    "    \n",
    "\n"
   ]
  },
  {
   "cell_type": "code",
   "execution_count": null,
   "metadata": {},
   "outputs": [],
   "source": [
    "#look for imbalance\n",
    "df['Machine failure'].value_counts()\n",
    "\n"
   ]
  },
  {
   "cell_type": "code",
   "execution_count": null,
   "metadata": {},
   "outputs": [],
   "source": []
  },
  {
   "cell_type": "code",
   "execution_count": null,
   "metadata": {},
   "outputs": [],
   "source": []
  }
 ],
 "metadata": {
  "kernelspec": {
   "display_name": "kaggle",
   "language": "python",
   "name": "python3"
  },
  "language_info": {
   "codemirror_mode": {
    "name": "ipython",
    "version": 3
   },
   "file_extension": ".py",
   "mimetype": "text/x-python",
   "name": "python",
   "nbconvert_exporter": "python",
   "pygments_lexer": "ipython3",
   "version": "3.11.4"
  },
  "orig_nbformat": 4
 },
 "nbformat": 4,
 "nbformat_minor": 2
}
